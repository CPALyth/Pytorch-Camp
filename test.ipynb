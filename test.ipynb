{
 "cells": [
  {
   "cell_type": "code",
   "execution_count": 1,
   "metadata": {
    "collapsed": true
   },
   "outputs": [
    {
     "data": {
      "text/plain": "tensor([[0.7871],\n        [0.7847],\n        [0.5026],\n        [0.1403],\n        [0.2319],\n        [0.6473],\n        [0.2390],\n        [0.6287],\n        [0.4771],\n        [0.6114],\n        [0.8326],\n        [0.7146],\n        [0.2234],\n        [0.7927],\n        [0.1366],\n        [0.4270],\n        [0.7410],\n        [0.1858],\n        [0.3468],\n        [0.4747]])"
     },
     "execution_count": 1,
     "metadata": {},
     "output_type": "execute_result"
    }
   ],
   "source": [
    "import torch\n",
    "torch.rand(20,1)"
   ]
  }
 ],
 "metadata": {
  "kernelspec": {
   "display_name": "Python 3",
   "language": "python",
   "name": "python3"
  },
  "language_info": {
   "codemirror_mode": {
    "name": "ipython",
    "version": 2
   },
   "file_extension": ".py",
   "mimetype": "text/x-python",
   "name": "python",
   "nbconvert_exporter": "python",
   "pygments_lexer": "ipython2",
   "version": "2.7.6"
  }
 },
 "nbformat": 4,
 "nbformat_minor": 0
}