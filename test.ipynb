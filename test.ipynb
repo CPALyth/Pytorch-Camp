{
 "cells": [
  {
   "cell_type": "code",
   "execution_count": 3,
   "metadata": {
    "collapsed": true
   },
   "outputs": [
    {
     "data": {
      "text/plain": "tensor([[0.5241],\n        [0.3945],\n        [0.6089],\n        [0.9506],\n        [0.9396],\n        [0.5686],\n        [0.6454],\n        [0.0245],\n        [0.9498],\n        [0.3179],\n        [0.4065],\n        [0.6637],\n        [0.7704],\n        [0.2474],\n        [0.9435],\n        [0.9547],\n        [0.8464],\n        [0.7143],\n        [0.6913],\n        [0.4953]])"
     },
     "execution_count": 3,
     "metadata": {},
     "output_type": "execute_result"
    }
   ],
   "source": [
    "import torch\n",
    "torch.rand(20,1)"
   ]
  },
  {
   "cell_type": "code",
   "execution_count": 4,
   "outputs": [
    {
     "name": "stdout",
     "output_type": "stream",
     "text": [
      "tensor([5.]) tensor([2.])\n",
      "tensor([10.]) tensor([4.])\n"
     ]
    }
   ],
   "source": [
    "w = torch.tensor([1.], requires_grad=True)\n",
    "x = torch.tensor([2.], requires_grad=True)\n",
    "\n",
    "a = w + x\n",
    "b = w + 1\n",
    "y = a * b\n",
    "# 反向传播要保存计算图\n",
    "y.backward(retain_graph=True)\n",
    "print(w.grad, x.grad)\n",
    "y.backward()\n",
    "print(w.grad, x.grad)   # 多次反向传播会使梯度累加"
   ],
   "metadata": {
    "collapsed": false,
    "pycharm": {
     "name": "#%%\n"
    }
   }
  },
  {
   "cell_type": "code",
   "execution_count": 5,
   "outputs": [
    {
     "name": "stdout",
     "output_type": "stream",
     "text": [
      "[0.01678521 0.47503081 0.13469822 0.0167481  0.43953131]\n"
     ]
    }
   ],
   "source": [
    "import numpy as np\n",
    "\n",
    "n = np.random.rand(5)\n",
    "print(n)"
   ],
   "metadata": {
    "collapsed": false,
    "pycharm": {
     "name": "#%%\n"
    }
   }
  },
  {
   "cell_type": "code",
   "execution_count": 7,
   "outputs": [
    {
     "name": "stdout",
     "output_type": "stream",
     "text": [
      "tensor([0., 0., 0., 0., 0.])\n"
     ]
    }
   ],
   "source": [
    "t = torch.tensor(n)\n",
    "print(t.ge(0.5).float())"
   ],
   "metadata": {
    "collapsed": false,
    "pycharm": {
     "name": "#%%\n"
    }
   }
  }
 ],
 "metadata": {
  "kernelspec": {
   "display_name": "Python 3",
   "language": "python",
   "name": "python3"
  },
  "language_info": {
   "codemirror_mode": {
    "name": "ipython",
    "version": 2
   },
   "file_extension": ".py",
   "mimetype": "text/x-python",
   "name": "python",
   "nbconvert_exporter": "python",
   "pygments_lexer": "ipython2",
   "version": "2.7.6"
  }
 },
 "nbformat": 4,
 "nbformat_minor": 0
}